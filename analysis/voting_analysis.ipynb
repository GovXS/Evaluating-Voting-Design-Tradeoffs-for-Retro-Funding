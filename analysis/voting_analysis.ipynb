{
 "cells": [
  {
   "cell_type": "code",
   "execution_count": 1,
   "metadata": {},
   "outputs": [],
   "source": [
    "voter_type='mallows_model'\n",
    "num_voters=3\n",
    "num_projects=5\n",
    "total_op_tokens=300\n",
    "num_rounds = 100\n",
    "# Add the directory containing the VotingModel to the Python path\n",
    "import os\n",
    "import sys\n",
    "sys.path.append(os.path.abspath('/Users/idrees/Code/govxs/'))\n",
    "import numpy as np\n",
    "import pandas as pd\n",
    "\n",
    "import matplotlib.pyplot as plt\n",
    "import seaborn as sns\n",
    "import pandas as pd\n",
    "import numpy as np\n",
    "\n",
    "\n",
    "\n",
    "from util.plot_results import plot_aggregation_results\n",
    "from model.VotingModel import VotingModel"
   ]
  },
  {
   "cell_type": "code",
   "execution_count": 2,
   "metadata": {},
   "outputs": [
    {
     "name": "stdout",
     "output_type": "stream",
     "text": [
      "   majoritarian_moving_phantoms  r1_quadratic    r2_mean  r3_median    Project\n",
      "0                          57.0     58.553101  57.000000  56.810631  Project 1\n",
      "1                          56.0     58.032522  56.000000  55.813953  Project 2\n",
      "2                          67.0     62.802542  65.666667  66.777409  Project 3\n",
      "3                          53.0     56.981592  54.000000  52.823920  Project 4\n",
      "4                          67.0     63.630243  67.333333  67.774086  Project 5\n",
      "   Project 1  Project 2  Project 3  Project 4  Project 5    Voter\n",
      "0         58         54         67         53         68  Voter 1\n",
      "1         57         56         71         52         64  Voter 2\n",
      "2         56         58         59         57         70  Voter 3\n"
     ]
    },
    {
     "name": "stderr",
     "output_type": "stream",
     "text": [
      "/Users/idrees/Code/govxs/agents/VoterAgent.py:7: FutureWarning: The Mesa Model class was not initialized. In the future, you need to explicitly initialize the Model by calling super().__init__() on initialization.\n",
      "  super().__init__(unique_id, model)\n"
     ]
    }
   ],
   "source": [
    "\n",
    "data_dir = '/Users/idrees/Code/govxs/data'\n",
    "os.makedirs(data_dir, exist_ok=True)\n",
    "\n",
    "model = VotingModel(voter_type=voter_type,num_voters=num_voters, num_projects=num_projects, total_op_tokens=total_op_tokens)\n",
    "model.step()\n",
    "\n",
    "results_df=model.compile_fund_allocations()\n",
    "\n",
    "# Save the DataFrame to a CSV file in the data directory\n",
    "results_df.to_csv(os.path.join(data_dir, 'fund_allocation_data.csv'), index=False)\n",
    "print(results_df.head())\n",
    "\n",
    "voting_df = pd.DataFrame(model.voting_matrix, columns=[f\"Project {i+1}\" for i in range(model.num_projects)])\n",
    "voting_df['Voter'] = [f'Voter {i+1}' for i in range(model.num_voters)]\n",
    "\n",
    "# Save the DataFrame to a CSV file in the data directory\n",
    "voting_df.to_csv(os.path.join(data_dir, 'voting_data.csv'), index=False)\n",
    "print(voting_df.head())"
   ]
  },
  {
   "cell_type": "code",
   "execution_count": 4,
   "metadata": {},
   "outputs": [
    {
     "data": {
      "text/html": [
       "<div>\n",
       "<style scoped>\n",
       "    .dataframe tbody tr th:only-of-type {\n",
       "        vertical-align: middle;\n",
       "    }\n",
       "\n",
       "    .dataframe tbody tr th {\n",
       "        vertical-align: top;\n",
       "    }\n",
       "\n",
       "    .dataframe thead th {\n",
       "        text-align: right;\n",
       "    }\n",
       "</style>\n",
       "<table border=\"1\" class=\"dataframe\">\n",
       "  <thead>\n",
       "    <tr style=\"text-align: right;\">\n",
       "      <th></th>\n",
       "      <th>majoritarian_moving_phantoms</th>\n",
       "      <th>r1_quadratic</th>\n",
       "      <th>r2_mean</th>\n",
       "      <th>r3_median</th>\n",
       "      <th>Project</th>\n",
       "    </tr>\n",
       "  </thead>\n",
       "  <tbody>\n",
       "    <tr>\n",
       "      <th>0</th>\n",
       "      <td>57.0</td>\n",
       "      <td>58.553101</td>\n",
       "      <td>57.000000</td>\n",
       "      <td>56.810631</td>\n",
       "      <td>Project 1</td>\n",
       "    </tr>\n",
       "    <tr>\n",
       "      <th>1</th>\n",
       "      <td>56.0</td>\n",
       "      <td>58.032522</td>\n",
       "      <td>56.000000</td>\n",
       "      <td>55.813953</td>\n",
       "      <td>Project 2</td>\n",
       "    </tr>\n",
       "    <tr>\n",
       "      <th>2</th>\n",
       "      <td>67.0</td>\n",
       "      <td>62.802542</td>\n",
       "      <td>65.666667</td>\n",
       "      <td>66.777409</td>\n",
       "      <td>Project 3</td>\n",
       "    </tr>\n",
       "    <tr>\n",
       "      <th>3</th>\n",
       "      <td>53.0</td>\n",
       "      <td>56.981592</td>\n",
       "      <td>54.000000</td>\n",
       "      <td>52.823920</td>\n",
       "      <td>Project 4</td>\n",
       "    </tr>\n",
       "    <tr>\n",
       "      <th>4</th>\n",
       "      <td>67.0</td>\n",
       "      <td>63.630243</td>\n",
       "      <td>67.333333</td>\n",
       "      <td>67.774086</td>\n",
       "      <td>Project 5</td>\n",
       "    </tr>\n",
       "  </tbody>\n",
       "</table>\n",
       "</div>"
      ],
      "text/plain": [
       "   majoritarian_moving_phantoms  r1_quadratic    r2_mean  r3_median    Project\n",
       "0                          57.0     58.553101  57.000000  56.810631  Project 1\n",
       "1                          56.0     58.032522  56.000000  55.813953  Project 2\n",
       "2                          67.0     62.802542  65.666667  66.777409  Project 3\n",
       "3                          53.0     56.981592  54.000000  52.823920  Project 4\n",
       "4                          67.0     63.630243  67.333333  67.774086  Project 5"
      ]
     },
     "execution_count": 4,
     "metadata": {},
     "output_type": "execute_result"
    }
   ],
   "source": [
    "model.compile_fund_allocations()"
   ]
  }
 ],
 "metadata": {
  "kernelspec": {
   "display_name": "govxs_venv",
   "language": "python",
   "name": "python3"
  },
  "language_info": {
   "codemirror_mode": {
    "name": "ipython",
    "version": 3
   },
   "file_extension": ".py",
   "mimetype": "text/x-python",
   "name": "python",
   "nbconvert_exporter": "python",
   "pygments_lexer": "ipython3",
   "version": "3.11.9"
  }
 },
 "nbformat": 4,
 "nbformat_minor": 2
}
