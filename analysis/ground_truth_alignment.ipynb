{
 "cells": [
  {
   "cell_type": "code",
   "execution_count": 1,
   "metadata": {},
   "outputs": [
    {
     "name": "stderr",
     "output_type": "stream",
     "text": [
      "/Users/idrees/Code/govxs/agents/VoterAgent.py:8: FutureWarning: The Mesa Model class was not initialized. In the future, you need to explicitly initialize the Model by calling super().__init__() on initialization.\n",
      "  super().__init__(unique_id, model)\n"
     ]
    },
    {
     "data": {
      "text/html": [
       "<div>\n",
       "<style scoped>\n",
       "    .dataframe tbody tr th:only-of-type {\n",
       "        vertical-align: middle;\n",
       "    }\n",
       "\n",
       "    .dataframe tbody tr th {\n",
       "        vertical-align: top;\n",
       "    }\n",
       "\n",
       "    .dataframe thead th {\n",
       "        text-align: right;\n",
       "    }\n",
       "</style>\n",
       "<table border=\"1\" class=\"dataframe\">\n",
       "  <thead>\n",
       "    <tr style=\"text-align: right;\">\n",
       "      <th></th>\n",
       "      <th>voting_rule</th>\n",
       "      <th>hamming_distance</th>\n",
       "    </tr>\n",
       "  </thead>\n",
       "  <tbody>\n",
       "    <tr>\n",
       "      <th>0</th>\n",
       "      <td>mean</td>\n",
       "      <td>600</td>\n",
       "    </tr>\n",
       "    <tr>\n",
       "      <th>1</th>\n",
       "      <td>median</td>\n",
       "      <td>600</td>\n",
       "    </tr>\n",
       "    <tr>\n",
       "      <th>2</th>\n",
       "      <td>quadratic</td>\n",
       "      <td>600</td>\n",
       "    </tr>\n",
       "  </tbody>\n",
       "</table>\n",
       "</div>"
      ],
      "text/plain": [
       "  voting_rule  hamming_distance\n",
       "0        mean               600\n",
       "1      median               600\n",
       "2   quadratic               600"
      ]
     },
     "execution_count": 1,
     "metadata": {},
     "output_type": "execute_result"
    }
   ],
   "source": [
    "import numpy as np\n",
    "import pandas as pd\n",
    "import os\n",
    "import sys\n",
    "\n",
    "# Add the directory containing the VotingModel to the Python path\n",
    "sys.path.append(os.path.abspath('/Users/idrees/Code/govxs/'))\n",
    "from util.voting_rules import mean_aggregation, median_aggregation, quadratic_aggregation\n",
    "from model.VotingModel import VotingModel\n",
    "\n",
    "def hamming_distance(true_values, outcome):\n",
    "    \"\"\"Calculate the Hamming distance between true values and the outcome.\"\"\"\n",
    "    return np.sum(true_values != outcome)\n",
    "\n",
    "def evaluate_alignment_with_ground_truth(model, true_values):\n",
    "    alignment_results = []\n",
    "    for method in [\"mean\", \"median\", \"quadratic\"]:\n",
    "        outcome = model.allocate_funds(method)\n",
    "        hamming_dist = hamming_distance(true_values, outcome)\n",
    "        alignment_results.append({\n",
    "            \"voting_rule\": method,\n",
    "            \"hamming_distance\": hamming_dist\n",
    "        })\n",
    "\n",
    "    return pd.DataFrame(alignment_results)\n",
    "\n",
    "# Define the \"true values\" for the projects\n",
    "num_projects = 600\n",
    "true_values = np.random.randint(0, 2, size=num_projects)  # Example: binary \"true values\"\n",
    "\n",
    "# Initialize the model\n",
    "num_voters = 144\n",
    "total_op_tokens = 30e6\n",
    "model = VotingModel(num_voters=num_voters, num_projects=num_projects, total_op_tokens=total_op_tokens)\n",
    "model.step()\n",
    "\n",
    "# Evaluate alignment with ground truth\n",
    "alignment_results = evaluate_alignment_with_ground_truth(model, true_values)\n",
    "\n",
    "alignment_results"
   ]
  }
 ],
 "metadata": {
  "kernelspec": {
   "display_name": "govxs_venv",
   "language": "python",
   "name": "python3"
  },
  "language_info": {
   "codemirror_mode": {
    "name": "ipython",
    "version": 3
   },
   "file_extension": ".py",
   "mimetype": "text/x-python",
   "name": "python",
   "nbconvert_exporter": "python",
   "pygments_lexer": "ipython3",
   "version": "3.11.9"
  }
 },
 "nbformat": 4,
 "nbformat_minor": 2
}
