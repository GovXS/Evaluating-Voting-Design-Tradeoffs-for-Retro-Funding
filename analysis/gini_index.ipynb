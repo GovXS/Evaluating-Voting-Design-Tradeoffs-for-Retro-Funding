{
 "cells": [
  {
   "cell_type": "code",
   "execution_count": 1,
   "metadata": {},
   "outputs": [
    {
     "name": "stderr",
     "output_type": "stream",
     "text": [
      "/Users/idrees/Code/govxs/agents/VoterAgent.py:8: FutureWarning: The Mesa Model class was not initialized. In the future, you need to explicitly initialize the Model by calling super().__init__() on initialization.\n",
      "  super().__init__(unique_id, model)\n"
     ]
    },
    {
     "data": {
      "text/html": [
       "<div>\n",
       "<style scoped>\n",
       "    .dataframe tbody tr th:only-of-type {\n",
       "        vertical-align: middle;\n",
       "    }\n",
       "\n",
       "    .dataframe tbody tr th {\n",
       "        vertical-align: top;\n",
       "    }\n",
       "\n",
       "    .dataframe thead th {\n",
       "        text-align: right;\n",
       "    }\n",
       "</style>\n",
       "<table border=\"1\" class=\"dataframe\">\n",
       "  <thead>\n",
       "    <tr style=\"text-align: right;\">\n",
       "      <th></th>\n",
       "      <th>voting_rule</th>\n",
       "      <th>gini_index</th>\n",
       "    </tr>\n",
       "  </thead>\n",
       "  <tbody>\n",
       "    <tr>\n",
       "      <th>0</th>\n",
       "      <td>mean</td>\n",
       "      <td>0.042955</td>\n",
       "    </tr>\n",
       "    <tr>\n",
       "      <th>1</th>\n",
       "      <td>median</td>\n",
       "      <td>0.064311</td>\n",
       "    </tr>\n",
       "    <tr>\n",
       "      <th>2</th>\n",
       "      <td>quadratic</td>\n",
       "      <td>0.087099</td>\n",
       "    </tr>\n",
       "  </tbody>\n",
       "</table>\n",
       "</div>"
      ],
      "text/plain": [
       "  voting_rule  gini_index\n",
       "0        mean    0.042955\n",
       "1      median    0.064311\n",
       "2   quadratic    0.087099"
      ]
     },
     "execution_count": 1,
     "metadata": {},
     "output_type": "execute_result"
    }
   ],
   "source": [
    "import numpy as np\n",
    "import pandas as pd\n",
    "import os\n",
    "import sys\n",
    "\n",
    "# Add the directory containing the VotingModel to the Python path\n",
    "sys.path.append(os.path.abspath('/Users/idrees/Code/govxs/'))\n",
    "from util.voting_rules import mean_aggregation, median_aggregation, quadratic_aggregation\n",
    "from model.VotingModel import VotingModel\n",
    "\n",
    "def gini_index(allocation):\n",
    "    \"\"\"Calculate the Gini Index for a given allocation.\"\"\"\n",
    "    m = len(allocation)\n",
    "    if m == 0:\n",
    "        return 0\n",
    "    allocation_sorted = np.sort(allocation)\n",
    "    cumulative_allocation = np.cumsum(allocation_sorted)\n",
    "    numerator = 2 * np.sum((np.arange(1, m + 1) - 1) * allocation_sorted) - m * cumulative_allocation[-1]\n",
    "    denominator = m * cumulative_allocation[-1]\n",
    "    return numerator / denominator\n",
    "\n",
    "def evaluate_gini_index(model):\n",
    "    gini_results = []\n",
    "    for method in [\"mean\", \"median\", \"quadratic\"]:\n",
    "        allocation = model.allocate_funds(method)\n",
    "        gini = gini_index(allocation)\n",
    "        gini_results.append({\n",
    "            \"voting_rule\": method,\n",
    "            \"gini_index\": gini\n",
    "        })\n",
    "\n",
    "    return pd.DataFrame(gini_results)\n",
    "\n",
    "# Initialize the model\n",
    "num_voters = 144\n",
    "num_projects = 600\n",
    "total_op_tokens = 30e6\n",
    "model = VotingModel(num_voters=num_voters, num_projects=num_projects, total_op_tokens=total_op_tokens)\n",
    "model.step()\n",
    "\n",
    "# Evaluate Gini Index\n",
    "gini_results = evaluate_gini_index(model)\n",
    "\n",
    "gini_results"
   ]
  }
 ],
 "metadata": {
  "kernelspec": {
   "display_name": "govxs_venv",
   "language": "python",
   "name": "python3"
  },
  "language_info": {
   "codemirror_mode": {
    "name": "ipython",
    "version": 3
   },
   "file_extension": ".py",
   "mimetype": "text/x-python",
   "name": "python",
   "nbconvert_exporter": "python",
   "pygments_lexer": "ipython3",
   "version": "3.11.9"
  }
 },
 "nbformat": 4,
 "nbformat_minor": 2
}
