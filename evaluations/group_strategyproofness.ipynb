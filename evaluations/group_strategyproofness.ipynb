{
 "cells": [
  {
   "cell_type": "code",
   "execution_count": 1,
   "metadata": {},
   "outputs": [
    {
     "ename": "ModuleNotFoundError",
     "evalue": "No module named 'util.voting_rules'",
     "output_type": "error",
     "traceback": [
      "\u001b[0;31m---------------------------------------------------------------------------\u001b[0m",
      "\u001b[0;31mModuleNotFoundError\u001b[0m                       Traceback (most recent call last)",
      "Cell \u001b[0;32mIn[1], line 8\u001b[0m\n\u001b[1;32m      6\u001b[0m \u001b[38;5;66;03m# Add the directory containing the VotingModel to the Python path\u001b[39;00m\n\u001b[1;32m      7\u001b[0m sys\u001b[38;5;241m.\u001b[39mpath\u001b[38;5;241m.\u001b[39mappend(os\u001b[38;5;241m.\u001b[39mpath\u001b[38;5;241m.\u001b[39mabspath(\u001b[38;5;124m'\u001b[39m\u001b[38;5;124m/Users/idrees/Code/govxs/\u001b[39m\u001b[38;5;124m'\u001b[39m))\n\u001b[0;32m----> 8\u001b[0m \u001b[38;5;28;01mfrom\u001b[39;00m \u001b[38;5;21;01mutil\u001b[39;00m\u001b[38;5;21;01m.\u001b[39;00m\u001b[38;5;21;01mvoting_rules\u001b[39;00m \u001b[38;5;28;01mimport\u001b[39;00m mean_aggregation, median_aggregation, quadratic_aggregation\n\u001b[1;32m      9\u001b[0m \u001b[38;5;28;01mfrom\u001b[39;00m \u001b[38;5;21;01mmodel\u001b[39;00m\u001b[38;5;21;01m.\u001b[39;00m\u001b[38;5;21;01mVotingModel\u001b[39;00m \u001b[38;5;28;01mimport\u001b[39;00m VotingModel\n\u001b[1;32m     11\u001b[0m \u001b[38;5;28;01mdef\u001b[39;00m \u001b[38;5;21mutility\u001b[39m(voter_preferences, outcome):\n",
      "\u001b[0;31mModuleNotFoundError\u001b[0m: No module named 'util.voting_rules'"
     ]
    }
   ],
   "source": [
    "import numpy as np\n",
    "import pandas as pd\n",
    "import os\n",
    "import sys\n",
    "\n",
    "# Add the directory containing the VotingModel to the Python path\n",
    "sys.path.append(os.path.abspath('/Users/idrees/Code/govxs/'))\n",
    "from util.voting_rules import mean_aggregation, median_aggregation, quadratic_aggregation\n",
    "from model.VotingModel import VotingModel\n",
    "\n",
    "def utility(voter_preferences, outcome):\n",
    "    \"\"\"Calculate the utility of a voter given their preferences and the outcome.\"\"\"\n",
    "    return -np.sum(np.abs(voter_preferences - outcome))\n",
    "\n",
    "def evaluate_group_strategyproofness(model, coalition_size=3):\n",
    "    group_strategyproofness_results = []\n",
    "    for method in [\"mean\", \"median\", \"quadratic\"]:\n",
    "        truthfully_voted_outcome = model.allocate_funds(method)\n",
    "        group_strategyproof = True\n",
    "\n",
    "        for _ in range(100):  # Number of random coalitions to test\n",
    "            coalition = np.random.choice(model.num_voters, coalition_size, replace=False)\n",
    "            original_utilities = [utility(model.voting_matrix[i], truthfully_voted_outcome) for i in coalition]\n",
    "\n",
    "            # Create a strategic voting scenario\n",
    "            strategic_voting_matrix = model.voting_matrix.copy()\n",
    "            for i in coalition:\n",
    "                strategic_voting_matrix[i] = np.random.rand(model.num_projects)\n",
    "\n",
    "            # Update the model's voting matrix\n",
    "            model.voting_matrix = strategic_voting_matrix\n",
    "\n",
    "            # Calculate the new outcome with strategic votes\n",
    "            strategically_voted_outcome = model.allocate_funds(method)\n",
    "            new_utilities = [utility(model.voting_matrix[i], strategically_voted_outcome) for i in coalition]\n",
    "\n",
    "            # Check if at least one member of the coalition is not better off\n",
    "            if all(new_utilities[i] > original_utilities[i] for i in range(coalition_size)):\n",
    "                group_strategyproof = False\n",
    "                break\n",
    "\n",
    "            # Reset the voting matrix to the original\n",
    "            model.voting_matrix = strategic_voting_matrix\n",
    "\n",
    "        group_strategyproofness_results.append({\n",
    "            \"voting_rule\": method,\n",
    "            \"group_strategyproof\": group_strategyproof\n",
    "        })\n",
    "\n",
    "    return pd.DataFrame(group_strategyproofness_results)\n",
    "\n",
    "# Initialize the model\n",
    "num_voters = 144\n",
    "num_projects = 600\n",
    "total_op_tokens = 30e6\n",
    "model = VotingModel(num_voters=num_voters, num_projects=num_projects, total_op_tokens=total_op_tokens)\n",
    "model.step()\n",
    "\n",
    "# Evaluate group-strategyproofness\n",
    "group_strategyproofness_results = evaluate_group_strategyproofness(model)\n",
    "group_strategyproofness_results"
   ]
  }
 ],
 "metadata": {
  "kernelspec": {
   "display_name": "govxs_venv",
   "language": "python",
   "name": "python3"
  },
  "language_info": {
   "codemirror_mode": {
    "name": "ipython",
    "version": 3
   },
   "file_extension": ".py",
   "mimetype": "text/x-python",
   "name": "python",
   "nbconvert_exporter": "python",
   "pygments_lexer": "ipython3",
   "version": "3.11.9"
  }
 },
 "nbformat": 4,
 "nbformat_minor": 2
}
