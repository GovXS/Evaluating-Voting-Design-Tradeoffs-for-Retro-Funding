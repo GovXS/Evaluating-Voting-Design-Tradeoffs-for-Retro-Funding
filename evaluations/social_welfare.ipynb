{
 "cells": [
  {
   "cell_type": "code",
   "execution_count": 2,
   "metadata": {},
   "outputs": [
    {
     "name": "stderr",
     "output_type": "stream",
     "text": [
      "/Users/idrees/Code/govxs/agents/VoterAgent.py:8: FutureWarning: The Mesa Model class was not initialized. In the future, you need to explicitly initialize the Model by calling super().__init__() on initialization.\n",
      "  super().__init__(unique_id, model)\n"
     ]
    },
    {
     "data": {
      "text/html": [
       "<div>\n",
       "<style scoped>\n",
       "    .dataframe tbody tr th:only-of-type {\n",
       "        vertical-align: middle;\n",
       "    }\n",
       "\n",
       "    .dataframe tbody tr th {\n",
       "        vertical-align: top;\n",
       "    }\n",
       "\n",
       "    .dataframe thead th {\n",
       "        text-align: right;\n",
       "    }\n",
       "</style>\n",
       "<table border=\"1\" class=\"dataframe\">\n",
       "  <thead>\n",
       "    <tr style=\"text-align: right;\">\n",
       "      <th></th>\n",
       "      <th>voting_rule</th>\n",
       "      <th>average_l1_distance</th>\n",
       "    </tr>\n",
       "  </thead>\n",
       "  <tbody>\n",
       "    <tr>\n",
       "      <th>0</th>\n",
       "      <td>mean</td>\n",
       "      <td>2.200740e+07</td>\n",
       "    </tr>\n",
       "    <tr>\n",
       "      <th>1</th>\n",
       "      <td>median</td>\n",
       "      <td>2.203228e+07</td>\n",
       "    </tr>\n",
       "    <tr>\n",
       "      <th>2</th>\n",
       "      <td>quadratic</td>\n",
       "      <td>2.209840e+07</td>\n",
       "    </tr>\n",
       "  </tbody>\n",
       "</table>\n",
       "</div>"
      ],
      "text/plain": [
       "  voting_rule  average_l1_distance\n",
       "0        mean         2.200740e+07\n",
       "1      median         2.203228e+07\n",
       "2   quadratic         2.209840e+07"
      ]
     },
     "execution_count": 2,
     "metadata": {},
     "output_type": "execute_result"
    }
   ],
   "source": [
    "import numpy as np\n",
    "import pandas as pd\n",
    "import os\n",
    "import sys\n",
    "\n",
    "# Add the directory containing the VotingModel to the Python path\n",
    "sys.path.append(os.path.abspath('/Users/idrees/Code/govxs/'))\n",
    "from util.voting_rules import mean_aggregation, median_aggregation, quadratic_aggregation\n",
    "from model.VotingModel import VotingModel\n",
    "\n",
    "def l1_distance(x, xi):\n",
    "    \"\"\"Calculate the L1 distance between two vectors.\"\"\"\n",
    "    return np.sum(np.abs(x - xi))\n",
    "\n",
    "def evaluate_social_welfare(model):\n",
    "    social_welfare_results = []\n",
    "    for method in [\"mean\", \"median\", \"quadratic\"]:\n",
    "        outcome = model.allocate_funds(method)\n",
    "        total_distance = 0\n",
    "        for i in range(model.num_voters):\n",
    "            total_distance += l1_distance(outcome, model.voting_matrix[i])\n",
    "        average_distance = total_distance / model.num_voters\n",
    "        social_welfare_results.append({\n",
    "            \"voting_rule\": method,\n",
    "            \"average_l1_distance\": average_distance\n",
    "        })\n",
    "\n",
    "    return pd.DataFrame(social_welfare_results)\n",
    "\n",
    "# Initialize the model\n",
    "num_voters = 144\n",
    "num_projects = 600\n",
    "total_op_tokens = 30e6\n",
    "model = VotingModel(num_voters=num_voters, num_projects=num_projects, total_op_tokens=total_op_tokens)\n",
    "model.step()\n",
    "\n",
    "# Evaluate social welfare maximization\n",
    "social_welfare_results = evaluate_social_welfare(model)\n",
    "social_welfare_results"
   ]
  }
 ],
 "metadata": {
  "kernelspec": {
   "display_name": "govxs_venv",
   "language": "python",
   "name": "python3"
  },
  "language_info": {
   "codemirror_mode": {
    "name": "ipython",
    "version": 3
   },
   "file_extension": ".py",
   "mimetype": "text/x-python",
   "name": "python",
   "nbconvert_exporter": "python",
   "pygments_lexer": "ipython3",
   "version": "3.11.9"
  }
 },
 "nbformat": 4,
 "nbformat_minor": 2
}
