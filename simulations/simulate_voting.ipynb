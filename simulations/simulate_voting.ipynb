{
 "cells": [
  {
   "cell_type": "code",
   "execution_count": 6,
   "metadata": {},
   "outputs": [],
   "source": [
    "import numpy as np\n",
    "import pandas as pd\n",
    "import os\n",
    "import sys\n",
    "\n",
    "# Add the directory containing the VotingModel to the Python path\n",
    "sys.path.append(os.path.abspath('/Users/idrees/Code/govxs/'))\n",
    "from model.VotingRules import mean_aggregation, median_aggregation, quadratic_aggregation\n",
    "\n",
    "from model.VotingModel import VotingModel"
   ]
  },
  {
   "cell_type": "code",
   "execution_count": null,
   "metadata": {},
   "outputs": [],
   "source": [
    "# Parameters for the simulation\n",
    "n_voters = 144\n",
    "n_projects = 600\n",
    "total_funds = 30e6\n",
    "num_rounds = 100\n",
    "voter_type='rn_model'"
   ]
  },
  {
   "cell_type": "code",
   "execution_count": 10,
   "metadata": {},
   "outputs": [
    {
     "name": "stderr",
     "output_type": "stream",
     "text": [
      "/Users/idrees/Code/govxs/agents/VoterAgent.py:7: FutureWarning: The Mesa Model class was not initialized. In the future, you need to explicitly initialize the Model by calling super().__init__() on initialization.\n",
      "  super().__init__(unique_id, model)\n"
     ]
    },
    {
     "ename": "NameError",
     "evalue": "name 'behavior_model' is not defined",
     "output_type": "error",
     "traceback": [
      "\u001b[0;31m---------------------------------------------------------------------------\u001b[0m",
      "\u001b[0;31mNameError\u001b[0m                                 Traceback (most recent call last)",
      "Cell \u001b[0;32mIn[10], line 37\u001b[0m\n\u001b[1;32m     28\u001b[0m metrics_functions \u001b[38;5;241m=\u001b[39m {\n\u001b[1;32m     29\u001b[0m     \u001b[38;5;124m\"\u001b[39m\u001b[38;5;124mrobustness\u001b[39m\u001b[38;5;124m\"\u001b[39m: calculate_robustness,\n\u001b[1;32m     30\u001b[0m     \u001b[38;5;124m\"\u001b[39m\u001b[38;5;124msocial_welfare\u001b[39m\u001b[38;5;124m\"\u001b[39m: calculate_social_welfare,\n\u001b[0;32m   (...)\u001b[0m\n\u001b[1;32m     33\u001b[0m     \u001b[38;5;124m\"\u001b[39m\u001b[38;5;124malignment_with_ground_truth\u001b[39m\u001b[38;5;124m\"\u001b[39m: \u001b[38;5;28;01mlambda\u001b[39;00m m: calculate_alignment_with_ground_truth(m, true_values)\n\u001b[1;32m     34\u001b[0m }\n\u001b[1;32m     36\u001b[0m \u001b[38;5;66;03m# Simulate the voting process\u001b[39;00m\n\u001b[0;32m---> 37\u001b[0m simulation_results \u001b[38;5;241m=\u001b[39m simulate_voting(model, num_rounds, metrics_functions, \u001b[43mbehavior_model\u001b[49m, dispersion)\n\u001b[1;32m     39\u001b[0m \u001b[38;5;66;03m# Display the results\u001b[39;00m\n\u001b[1;32m     40\u001b[0m \u001b[38;5;28;01mimport\u001b[39;00m \u001b[38;5;21;01mace_tools\u001b[39;00m \u001b[38;5;28;01mas\u001b[39;00m \u001b[38;5;21;01mtools\u001b[39;00m; tools\u001b[38;5;241m.\u001b[39mdisplay_dataframe_to_user(name\u001b[38;5;241m=\u001b[39m\u001b[38;5;124m\"\u001b[39m\u001b[38;5;124mSimulation Results\u001b[39m\u001b[38;5;124m\"\u001b[39m, dataframe\u001b[38;5;241m=\u001b[39msimulation_results)\n",
      "\u001b[0;31mNameError\u001b[0m: name 'behavior_model' is not defined"
     ]
    }
   ],
   "source": [
    "\n",
    " # Can be \"uniform\", \"rn\", or \"mallows\"\n",
    "dispersion = 0.1  # For Mallows model\n",
    "\n",
    "# Initialize the model\n",
    "model = VotingModel(voter_type=voter_type,num_voters=n_voters, num_projects=n_projects, total_op_tokens=total_funds)\n",
    "\n",
    "# Define true values for the projects for the alignment metric\n",
    "true_values = np.random.randint(0, 2, size=n_projects)  # Example: binary \"true values\"\n",
    "\n",
    "\n",
    "def simulate_voting(model, num_rounds, metrics_functions, behavior_model, *args):\n",
    "    results = []\n",
    "    for _ in range(num_rounds):\n",
    "        model.step(behavior_model, *args)\n",
    "        round_results = {}\n",
    "        for metric_name, metric_function in metrics_functions.items():\n",
    "            round_results[metric_name] = metric_function(model)\n",
    "        results.append(round_results)\n",
    "    return pd.DataFrame(results)\n",
    "\n",
    "# Define the metrics functions dictionary\n",
    "metrics_functions = {\n",
    "    \"robustness\": calculate_robustness,\n",
    "    \"social_welfare\": calculate_social_welfare,\n",
    "    \"gini_index\": calculate_gini_index,\n",
    "    \"group_strategyproofness\": calculate_group_strategyproofness,\n",
    "    \"alignment_with_ground_truth\": lambda m: calculate_alignment_with_ground_truth(m, true_values)\n",
    "}\n",
    "\n",
    "# Simulate the voting process\n",
    "simulation_results = simulate_voting(model, num_rounds, metrics_functions, behavior_model, dispersion)\n",
    "\n",
    "# Display the results\n",
    "import ace_tools as tools; tools.display_dataframe_to_user(name=\"Simulation Results\", dataframe=simulation_results)\n",
    "\n",
    "# Analyze the results\n",
    "def analyze_results(df):\n",
    "    analysis = df.describe().transpose()\n",
    "    return analysis\n",
    "\n",
    "analysis_results = analyze_results(simulation_results)\n",
    "tools.display_dataframe_to_user(name=\"Analysis Results\", dataframe=analysis_results)\n"
   ]
  },
  {
   "cell_type": "code",
   "execution_count": null,
   "metadata": {},
   "outputs": [],
   "source": [
    "n_voters_range = [50, 100, 200, 300, 400, 500, 600,700, 800, 900, 1000]\n",
    "n_projects_range = [300,400,500 600,700,800,900, 1000]\n",
    "total_funds_range = [1e6, 5e6, 10e6, 30e6,50e6]\n",
    "dispersion_range = [0.01, 0.1, 0.5]\n",
    "num_rounds = 100\n",
    "behavior_model = \"mallows\"  # Example behavior model\n",
    "def simulate_voting(n_voters, n_projects, total_funds, num_rounds, metrics_functions, behavior_model, *args):\n",
    "    model = VotingModel(n_voters=n_voters, n_projects=n_projects, total_funds=total_funds)\n",
    "    results = []\n",
    "    for _ in range(num_rounds):\n",
    "        model.step(behavior_model, *args)\n",
    "        round_results = {}\n",
    "        for metric_name, metric_function in metrics_functions.items():\n",
    "            round_results[metric_name] = metric_function(model)\n",
    "        results.append(round_results)\n",
    "    return pd.DataFrame(results)\n",
    "all_results = []\n",
    "\n",
    "# Define true values for the projects for the alignment metric\n",
    "true_values = np.random.randint(0, 2, size=max(n_projects_range))  # Ensure it covers the largest n_projects\n",
    "\n",
    "# Define the metrics functions dictionary\n",
    "metrics_functions = {\n",
    "    \"robustness\": calculate_robustness,\n",
    "    \"social_welfare\": calculate_social_welfare,\n",
    "    \"gini_index\": calculate_gini_index,\n",
    "    \"group_strategyproofness\": calculate_group_strategyproofness,\n",
    "    \"alignment_with_ground_truth\": lambda m: calculate_alignment_with_ground_truth(m, true_values)\n",
    "}\n",
    "\n",
    "# Loop through each combination of parameters\n",
    "for n_voters in n_voters_range:\n",
    "    for n_projects in n_projects_range:\n",
    "        for total_funds in total_funds_range:\n",
    "            for dispersion in dispersion_range:\n",
    "                print(f\"Simulating for n_voters={n_voters}, n_projects={n_projects}, total_funds={total_funds}, dispersion={dispersion}\")\n",
    "                simulation_results = simulate_voting(\n",
    "                    n_voters, n_projects, total_funds, num_rounds, metrics_functions, behavior_model, dispersion\n",
    "                )\n",
    "                simulation_results['n_voters'] = n_voters\n",
    "                simulation_results['n_projects'] = n_projects\n",
    "                simulation_results['total_funds'] = total_funds\n",
    "                simulation_results['dispersion'] = dispersion\n",
    "                all_results.append(simulation_results)\n",
    "\n",
    "# Combine all results into a single DataFrame\n",
    "all_results_df = pd.concat(all_results, ignore_index=True)\n",
    "\n",
    "# Display the combined results\n",
    "import ace_tools as tools; tools.display_dataframe_to_user(name=\"Parameter Sweep Results\", dataframe=all_results_df)\n",
    "\n",
    "# Analyze the results\n",
    "def analyze_results(df):\n",
    "    grouped = df.groupby(['n_voters', 'n_projects', 'total_funds', 'dispersion']).mean()\n",
    "    return grouped\n",
    "\n",
    "analysis_results = analyze_results(all_results_df)\n",
    "tools.display_dataframe_to_user(name=\"Analysis Results\", dataframe=analysis_results)\n"
   ]
  },
  {
   "cell_type": "code",
   "execution_count": 16,
   "metadata": {},
   "outputs": [],
   "source": [
    "# Parameters for the simulation\n",
    "num_voters = 144\n",
    "num_projects = 600\n",
    "total_op_tokens = 30e6\n",
    "num_rounds = 100\n",
    "voter_type='mallows_model'"
   ]
  },
  {
   "cell_type": "code",
   "execution_count": 17,
   "metadata": {},
   "outputs": [
    {
     "name": "stderr",
     "output_type": "stream",
     "text": [
      "/Users/idrees/Code/govxs/agents/VoterAgent.py:7: FutureWarning: The Mesa Model class was not initialized. In the future, you need to explicitly initialize the Model by calling super().__init__() on initialization.\n",
      "  super().__init__(unique_id, model)\n"
     ]
    },
    {
     "ename": "KeyboardInterrupt",
     "evalue": "",
     "output_type": "error",
     "traceback": [
      "\u001b[0;31m---------------------------------------------------------------------------\u001b[0m",
      "\u001b[0;31mKeyboardInterrupt\u001b[0m                         Traceback (most recent call last)",
      "Cell \u001b[0;32mIn[17], line 35\u001b[0m\n\u001b[1;32m     25\u001b[0m \u001b[38;5;66;03m# Define the metrics functions dictionary\u001b[39;00m\n\u001b[1;32m     26\u001b[0m metrics_functions \u001b[38;5;241m=\u001b[39m {\n\u001b[1;32m     27\u001b[0m     \u001b[38;5;124m\"\u001b[39m\u001b[38;5;124mrobustness\u001b[39m\u001b[38;5;124m\"\u001b[39m: calculate_robustness,\n\u001b[1;32m     28\u001b[0m     \u001b[38;5;124m\"\u001b[39m\u001b[38;5;124msocial_welfare\u001b[39m\u001b[38;5;124m\"\u001b[39m: calculate_social_welfare,\n\u001b[0;32m   (...)\u001b[0m\n\u001b[1;32m     31\u001b[0m     \u001b[38;5;124m\"\u001b[39m\u001b[38;5;124malignment_with_ground_truth\u001b[39m\u001b[38;5;124m\"\u001b[39m: \u001b[38;5;28;01mlambda\u001b[39;00m m: calculate_alignment_with_ground_truth(m, true_values)\n\u001b[1;32m     32\u001b[0m }\n\u001b[0;32m---> 35\u001b[0m simulation_results \u001b[38;5;241m=\u001b[39m \u001b[43msimulate_voting\u001b[49m\u001b[43m(\u001b[49m\u001b[43mmodel\u001b[49m\u001b[43m,\u001b[49m\u001b[43m \u001b[49m\u001b[43mnum_rounds\u001b[49m\u001b[43m,\u001b[49m\u001b[43m \u001b[49m\u001b[43mmetrics_functions\u001b[49m\u001b[43m)\u001b[49m\n\u001b[1;32m     36\u001b[0m simulation_results\n",
      "Cell \u001b[0;32mIn[17], line 12\u001b[0m, in \u001b[0;36msimulate_voting\u001b[0;34m(model, num_rounds, metrics_functions)\u001b[0m\n\u001b[1;32m     10\u001b[0m results \u001b[38;5;241m=\u001b[39m []\n\u001b[1;32m     11\u001b[0m \u001b[38;5;28;01mfor\u001b[39;00m _ \u001b[38;5;129;01min\u001b[39;00m \u001b[38;5;28mrange\u001b[39m(num_rounds):\n\u001b[0;32m---> 12\u001b[0m     \u001b[43mmodel\u001b[49m\u001b[38;5;241;43m.\u001b[39;49m\u001b[43mstep\u001b[49m\u001b[43m(\u001b[49m\u001b[43m)\u001b[49m\n\u001b[1;32m     13\u001b[0m     round_results \u001b[38;5;241m=\u001b[39m {}\n\u001b[1;32m     14\u001b[0m     \u001b[38;5;28;01mfor\u001b[39;00m metric_name, metric_function \u001b[38;5;129;01min\u001b[39;00m metrics_functions\u001b[38;5;241m.\u001b[39mitems():\n",
      "File \u001b[0;32m~/Code/govxs/model/VotingModel.py:29\u001b[0m, in \u001b[0;36mVotingModel.step\u001b[0;34m(self)\u001b[0m\n\u001b[1;32m     27\u001b[0m \u001b[38;5;28;01mdef\u001b[39;00m \u001b[38;5;21mstep\u001b[39m(\u001b[38;5;28mself\u001b[39m):\n\u001b[1;32m     28\u001b[0m     \u001b[38;5;28;01mfor\u001b[39;00m i, voter \u001b[38;5;129;01min\u001b[39;00m \u001b[38;5;28menumerate\u001b[39m(\u001b[38;5;28mself\u001b[39m\u001b[38;5;241m.\u001b[39mvoters):\n\u001b[0;32m---> 29\u001b[0m         \u001b[43mvoter\u001b[49m\u001b[38;5;241;43m.\u001b[39;49m\u001b[43mvote\u001b[49m\u001b[43m(\u001b[49m\u001b[43m)\u001b[49m\n\u001b[1;32m     30\u001b[0m         \u001b[38;5;28mself\u001b[39m\u001b[38;5;241m.\u001b[39mvoting_matrix[i, :] \u001b[38;5;241m=\u001b[39m voter\u001b[38;5;241m.\u001b[39mvotes\n",
      "File \u001b[0;32m~/Code/govxs/agents/VoterAgent.py:17\u001b[0m, in \u001b[0;36mVoterAgent.vote\u001b[0;34m(self)\u001b[0m\n\u001b[1;32m     15\u001b[0m     \u001b[38;5;28mself\u001b[39m\u001b[38;5;241m.\u001b[39mvotes \u001b[38;5;241m=\u001b[39m optimized_rn_model(\u001b[38;5;28mself\u001b[39m\u001b[38;5;241m.\u001b[39mnum_projects, \u001b[38;5;28mself\u001b[39m\u001b[38;5;241m.\u001b[39mtotal_op_tokens, alpha\u001b[38;5;241m=\u001b[39m\u001b[38;5;241m2\u001b[39m)  \u001b[38;5;66;03m# Specify alpha as needed\u001b[39;00m\n\u001b[1;32m     16\u001b[0m \u001b[38;5;28;01melif\u001b[39;00m \u001b[38;5;28mself\u001b[39m\u001b[38;5;241m.\u001b[39mvoter_type \u001b[38;5;241m==\u001b[39m \u001b[38;5;124m'\u001b[39m\u001b[38;5;124mmallows_model\u001b[39m\u001b[38;5;124m'\u001b[39m:\n\u001b[0;32m---> 17\u001b[0m     \u001b[38;5;28mself\u001b[39m\u001b[38;5;241m.\u001b[39mvotes \u001b[38;5;241m=\u001b[39m \u001b[43mmallows_model\u001b[49m\u001b[43m(\u001b[49m\u001b[38;5;28;43mself\u001b[39;49m\u001b[38;5;241;43m.\u001b[39;49m\u001b[43mnum_projects\u001b[49m\u001b[43m,\u001b[49m\u001b[43m \u001b[49m\u001b[38;5;28;43mself\u001b[39;49m\u001b[38;5;241;43m.\u001b[39;49m\u001b[43mtotal_op_tokens\u001b[49m\u001b[43m)\u001b[49m\n\u001b[1;32m     18\u001b[0m \u001b[38;5;28;01melif\u001b[39;00m \u001b[38;5;28mself\u001b[39m\u001b[38;5;241m.\u001b[39mvoter_type \u001b[38;5;241m==\u001b[39m \u001b[38;5;124m'\u001b[39m\u001b[38;5;124meuclidean_model\u001b[39m\u001b[38;5;124m'\u001b[39m:\n\u001b[1;32m     19\u001b[0m     \u001b[38;5;28mself\u001b[39m\u001b[38;5;241m.\u001b[39mvotes \u001b[38;5;241m=\u001b[39m euclidean_model(\u001b[38;5;28mself\u001b[39m\u001b[38;5;241m.\u001b[39mnum_projects, \u001b[38;5;28mself\u001b[39m\u001b[38;5;241m.\u001b[39mtotal_op_tokens)\n",
      "File \u001b[0;32m~/Code/govxs/model/VoterBehaviours.py:30\u001b[0m, in \u001b[0;36mmallows_model\u001b[0;34m(num_projects, total_op_tokens)\u001b[0m\n\u001b[1;32m     28\u001b[0m new_vote \u001b[38;5;241m=\u001b[39m base_vote\u001b[38;5;241m.\u001b[39mcopy()\n\u001b[1;32m     29\u001b[0m \u001b[38;5;28;01mfor\u001b[39;00m _ \u001b[38;5;129;01min\u001b[39;00m \u001b[38;5;28mrange\u001b[39m(noise):\n\u001b[0;32m---> 30\u001b[0m     from_proj \u001b[38;5;241m=\u001b[39m \u001b[43mnp\u001b[49m\u001b[38;5;241;43m.\u001b[39;49m\u001b[43mrandom\u001b[49m\u001b[38;5;241;43m.\u001b[39;49m\u001b[43mchoice\u001b[49m\u001b[43m(\u001b[49m\u001b[38;5;28;43mrange\u001b[39;49m\u001b[43m(\u001b[49m\u001b[43mnum_projects\u001b[49m\u001b[43m)\u001b[49m\u001b[43m)\u001b[49m\n\u001b[1;32m     31\u001b[0m     to_proj \u001b[38;5;241m=\u001b[39m np\u001b[38;5;241m.\u001b[39mrandom\u001b[38;5;241m.\u001b[39mchoice(\u001b[38;5;28mrange\u001b[39m(num_projects))\n\u001b[1;32m     32\u001b[0m     \u001b[38;5;28;01mif\u001b[39;00m new_vote[from_proj] \u001b[38;5;241m>\u001b[39m \u001b[38;5;241m0\u001b[39m:\n",
      "File \u001b[0;32mnumpy/random/mtrand.pyx:960\u001b[0m, in \u001b[0;36mnumpy.random.mtrand.RandomState.choice\u001b[0;34m()\u001b[0m\n",
      "\u001b[0;31mKeyboardInterrupt\u001b[0m: "
     ]
    }
   ],
   "source": [
    "import pandas as pd\n",
    "from model.EvalMetrics import calculate_alignment_with_ground_truth,calculate_gini_index,calculate_group_strategyproofness,calculate_robustness,calculate_social_welfare\n",
    "\n",
    "# Initialize the mode\n",
    "model = VotingModel(voter_type=voter_type,num_voters=num_voters, num_projects=num_projects, total_op_tokens=total_op_tokens)\n",
    "\n",
    "# Define true values for the projects for the alignment metric\n",
    "true_values = np.random.rand(num_projects)\n",
    "def simulate_voting(model, num_rounds, metrics_functions):\n",
    "    results = []\n",
    "    for _ in range(num_rounds):\n",
    "        model.step()\n",
    "        round_results = {}\n",
    "        for metric_name, metric_function in metrics_functions.items():\n",
    "            round_results[metric_name] = metric_function(model)\n",
    "        results.append(round_results)\n",
    "    return pd.DataFrame(results)\n",
    "\n",
    "# Initialize the model\n",
    "model = VotingModel(voter_type=voter_type,num_voters=num_voters, num_projects=num_projects, total_op_tokens=total_op_tokens)\n",
    "\n",
    "# Define true values for the projects for the alignment metric\n",
    "true_values = np.random.randint(0, 2, size=num_projects)  # Example: binary \"true values\"\n",
    "\n",
    "# Define the metrics functions dictionary\n",
    "metrics_functions = {\n",
    "    \"robustness\": calculate_robustness,\n",
    "    \"social_welfare\": calculate_social_welfare,\n",
    "    \"gini_index\": calculate_gini_index,\n",
    "    \"group_strategyproofness\": calculate_group_strategyproofness,\n",
    "    \"alignment_with_ground_truth\": lambda m: calculate_alignment_with_ground_truth(m, true_values)\n",
    "}\n",
    "\n",
    "\n",
    "simulation_results = simulate_voting(model, num_rounds, metrics_functions)\n",
    "simulation_results\n"
   ]
  }
 ],
 "metadata": {
  "kernelspec": {
   "display_name": "govxs_venv",
   "language": "python",
   "name": "python3"
  },
  "language_info": {
   "codemirror_mode": {
    "name": "ipython",
    "version": 3
   },
   "file_extension": ".py",
   "mimetype": "text/x-python",
   "name": "python",
   "nbconvert_exporter": "python",
   "pygments_lexer": "ipython3",
   "version": "3.11.9"
  }
 },
 "nbformat": 4,
 "nbformat_minor": 2
}
