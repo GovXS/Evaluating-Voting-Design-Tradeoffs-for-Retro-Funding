{
 "cells": [
  {
   "cell_type": "code",
   "execution_count": null,
   "metadata": {},
   "outputs": [],
   "source": [
    "# Import libraries\n",
    "import numpy as np\n",
    "import pandas as pd\n",
    "import os\n",
    "import sys\n",
    "sys.path.append(os.path.abspath('/Users/idrees/Code/govxs/'))\n",
    "from model.VotingModel import VotingModel\n",
    "from model.EvalMetrics import EvalMetrics\n",
    "\n",
    "# Add the directory containing the VotingModel to the Python path\n",
    "\n",
    "from model.VotingRules import VotingRules\n",
    "\n",
    "# Initialize simulation parameters\n",
    "num_voters = 100\n",
    "num_projects = 600\n",
    "total_op_tokens = 30e6\n",
    "num_rounds = 100\n",
    "voter_type = 'random_uniform_model'\n",
    "quorum=17\n",
    "# Initialize the model\n",
    "model = VotingModel(voter_type=voter_type, num_voters=num_voters, num_projects=num_projects, total_op_tokens=total_op_tokens)\n",
    "\n",
    "# Initialize the evaluation metrics\n",
    "model.step()\n",
    "eval_metrics = EvalMetrics(model)\n",
    "output_dir = '/Users/idrees/Code/govxs/outdir_csv'\n",
    "allocation_df=model.compile_fund_allocations()\n",
    "allocation_df.to_csv(os.path.join(output_dir, 'allocation_df.csv'), index=False)\n",
    "allocation_df"
   ]
  },
  {
   "cell_type": "code",
   "execution_count": null,
   "metadata": {},
   "outputs": [],
   "source": [
    "bribery_results = eval_metrics.evaluate_bribery(num_rounds,1)"
   ]
  }
 ],
 "metadata": {
  "language_info": {
   "name": "python"
  }
 },
 "nbformat": 4,
 "nbformat_minor": 2
}
