{
 "cells": [
  {
   "cell_type": "code",
   "execution_count": 15,
   "metadata": {},
   "outputs": [],
   "source": [
    "from eval_metrics import evaluate_representativeness,evaluate_simplicity, evaluate_diversity,evaluate_incentive_compatibility,evaluate_resistance_to_malicious_behavior,evaluate_resistance_to_collusion,evaluate_robustness\n",
    "\n",
    "from voting_model import Simulation"
   ]
  },
  {
   "cell_type": "code",
   "execution_count": 24,
   "metadata": {},
   "outputs": [
    {
     "name": "stdout",
     "output_type": "stream",
     "text": [
      "{'scoring_method': 'median', 'vote_quorum': 17, 'min_amount': 1500, 'num_projects_above_quorum': 332, 'avg_payout': np.float64(90361.44590361445), 'median_payout': np.float64(54676.685), 'max_payout': np.float64(653185.05)}\n"
     ]
    }
   ],
   "source": [
    "num_voters=150\n",
    "num_projects=600\n",
    "max_allocation=30000000\n",
    "willingness_to_spend=1\n",
    "laziness_factor=0.6\n",
    "expertise_factor=0.7\n",
    "quorum=17\n",
    "min_amount=1500\n",
    "\n",
    "\n",
    "simulation = Simulation()\n",
    "\n",
    "simulation.initialize_round(max_allocation)\n",
    "simulation.randomize_voters(num_voters, willingness_to_spend, laziness_factor, expertise_factor)\n",
    "simulation.randomize_projects(num_projects, coi_factor=0)\n",
    "simulation.simulate_voting()    \n",
    "results = simulation.allocate_votes('median', quorum, min_amount)\n",
    "print(results)\n",
    "data = simulation.get_project_data()"
   ]
  },
  {
   "cell_type": "code",
   "execution_count": 25,
   "metadata": {},
   "outputs": [
    {
     "data": {
      "text/html": [
       "<div>\n",
       "<style scoped>\n",
       "    .dataframe tbody tr th:only-of-type {\n",
       "        vertical-align: middle;\n",
       "    }\n",
       "\n",
       "    .dataframe tbody tr th {\n",
       "        vertical-align: top;\n",
       "    }\n",
       "\n",
       "    .dataframe thead th {\n",
       "        text-align: right;\n",
       "    }\n",
       "</style>\n",
       "<table border=\"1\" class=\"dataframe\">\n",
       "  <thead>\n",
       "    <tr style=\"text-align: right;\">\n",
       "      <th></th>\n",
       "      <th>project_id</th>\n",
       "      <th>owner_id</th>\n",
       "      <th>rating</th>\n",
       "      <th>num_votes</th>\n",
       "      <th>score</th>\n",
       "      <th>token_amount</th>\n",
       "    </tr>\n",
       "  </thead>\n",
       "  <tbody>\n",
       "    <tr>\n",
       "      <th>0</th>\n",
       "      <td>0</td>\n",
       "      <td>None</td>\n",
       "      <td>2.536774</td>\n",
       "      <td>4</td>\n",
       "      <td>0.000000</td>\n",
       "      <td>0.00</td>\n",
       "    </tr>\n",
       "    <tr>\n",
       "      <th>1</th>\n",
       "      <td>1</td>\n",
       "      <td>None</td>\n",
       "      <td>2.987176</td>\n",
       "      <td>17</td>\n",
       "      <td>7716.745168</td>\n",
       "      <td>6178.21</td>\n",
       "    </tr>\n",
       "    <tr>\n",
       "      <th>2</th>\n",
       "      <td>2</td>\n",
       "      <td>None</td>\n",
       "      <td>3.799712</td>\n",
       "      <td>42</td>\n",
       "      <td>59066.858966</td>\n",
       "      <td>47290.36</td>\n",
       "    </tr>\n",
       "    <tr>\n",
       "      <th>3</th>\n",
       "      <td>3</td>\n",
       "      <td>None</td>\n",
       "      <td>3.304313</td>\n",
       "      <td>34</td>\n",
       "      <td>35621.471451</td>\n",
       "      <td>28519.41</td>\n",
       "    </tr>\n",
       "    <tr>\n",
       "      <th>4</th>\n",
       "      <td>4</td>\n",
       "      <td>None</td>\n",
       "      <td>3.385679</td>\n",
       "      <td>36</td>\n",
       "      <td>34136.003330</td>\n",
       "      <td>27330.11</td>\n",
       "    </tr>\n",
       "  </tbody>\n",
       "</table>\n",
       "</div>"
      ],
      "text/plain": [
       "   project_id owner_id    rating  num_votes         score  token_amount\n",
       "0           0     None  2.536774          4      0.000000          0.00\n",
       "1           1     None  2.987176         17   7716.745168       6178.21\n",
       "2           2     None  3.799712         42  59066.858966      47290.36\n",
       "3           3     None  3.304313         34  35621.471451      28519.41\n",
       "4           4     None  3.385679         36  34136.003330      27330.11"
      ]
     },
     "execution_count": 25,
     "metadata": {},
     "output_type": "execute_result"
    }
   ],
   "source": [
    "import pandas as pd\n",
    "df=pd.DataFrame(data)\n",
    "df.head(5)"
   ]
  }
 ],
 "metadata": {
  "kernelspec": {
   "display_name": "govxs_venv",
   "language": "python",
   "name": "python3"
  },
  "language_info": {
   "codemirror_mode": {
    "name": "ipython",
    "version": 3
   },
   "file_extension": ".py",
   "mimetype": "text/x-python",
   "name": "python",
   "nbconvert_exporter": "python",
   "pygments_lexer": "ipython3",
   "version": "3.9.6"
  }
 },
 "nbformat": 4,
 "nbformat_minor": 2
}
