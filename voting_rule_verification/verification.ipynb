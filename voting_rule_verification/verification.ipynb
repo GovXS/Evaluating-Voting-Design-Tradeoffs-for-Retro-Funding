{
 "cells": [
  {
   "cell_type": "markdown",
   "metadata": {},
   "source": [
    "# Round 3 verification "
   ]
  },
  {
   "cell_type": "code",
   "execution_count": 2,
   "metadata": {},
   "outputs": [
    {
     "name": "stderr",
     "output_type": "stream",
     "text": [
      "2024-08-14 08:32:40 INFO | Check - If all are eligible: True\n",
      "2024-08-14 08:32:40 INFO | Check - Original Amount Eligible: 11084481.0\n",
      "2024-08-14 08:32:40 INFO | Check - Scale Factor: 2.7064866636516407\n",
      "2024-08-14 08:32:40 INFO | Check - New Amount Eligible: 30000000.000000004\n"
     ]
    },
    {
     "name": "stdout",
     "output_type": "stream",
     "text": [
      "Initial_Allocation\n",
      "            votes_count  median_amount  is_eligible\n",
      "project_id                                         \n",
      "proj0                18      1533100.5         True\n",
      "proj1                28      2787411.5         True\n",
      "proj2                24      2329909.0         True\n",
      "proj3                24      2170789.0         True\n",
      "proj4                21      2263271.0         True\n",
      "Scaled_Allocation\n",
      "            votes_count  median_amount  is_eligible  scaled_amount\n",
      "project_id                                                        \n",
      "proj0                18      1533100.5         True   4.149316e+06\n",
      "proj1                28      2787411.5         True   7.544092e+06\n",
      "proj2                24      2329909.0         True   6.305868e+06\n",
      "proj3                24      2170789.0         True   5.875211e+06\n",
      "proj4                21      2263271.0         True   6.125513e+06\n",
      "Comparison_Allocation\n"
     ]
    },
    {
     "data": {
      "text/html": [
       "<div>\n",
       "<style scoped>\n",
       "    .dataframe tbody tr th:only-of-type {\n",
       "        vertical-align: middle;\n",
       "    }\n",
       "\n",
       "    .dataframe tbody tr th {\n",
       "        vertical-align: top;\n",
       "    }\n",
       "\n",
       "    .dataframe thead th {\n",
       "        text-align: right;\n",
       "    }\n",
       "</style>\n",
       "<table border=\"1\" class=\"dataframe\">\n",
       "  <thead>\n",
       "    <tr style=\"text-align: right;\">\n",
       "      <th></th>\n",
       "      <th>Allocation (ProjectAllocator)</th>\n",
       "      <th>Allocation (Our Implemenation)</th>\n",
       "    </tr>\n",
       "  </thead>\n",
       "  <tbody>\n",
       "    <tr>\n",
       "      <th>0</th>\n",
       "      <td>4.149316e+06</td>\n",
       "      <td>4.149316e+06</td>\n",
       "    </tr>\n",
       "    <tr>\n",
       "      <th>1</th>\n",
       "      <td>7.544092e+06</td>\n",
       "      <td>7.544092e+06</td>\n",
       "    </tr>\n",
       "    <tr>\n",
       "      <th>2</th>\n",
       "      <td>6.305868e+06</td>\n",
       "      <td>6.305868e+06</td>\n",
       "    </tr>\n",
       "    <tr>\n",
       "      <th>3</th>\n",
       "      <td>5.875211e+06</td>\n",
       "      <td>5.875211e+06</td>\n",
       "    </tr>\n",
       "    <tr>\n",
       "      <th>4</th>\n",
       "      <td>6.125513e+06</td>\n",
       "      <td>6.125513e+06</td>\n",
       "    </tr>\n",
       "  </tbody>\n",
       "</table>\n",
       "</div>"
      ],
      "text/plain": [
       "   Allocation (ProjectAllocator)  Allocation (Our Implemenation)\n",
       "0                   4.149316e+06                    4.149316e+06\n",
       "1                   7.544092e+06                    7.544092e+06\n",
       "2                   6.305868e+06                    6.305868e+06\n",
       "3                   5.875211e+06                    5.875211e+06\n",
       "4                   6.125513e+06                    6.125513e+06"
      ]
     },
     "execution_count": 2,
     "metadata": {},
     "output_type": "execute_result"
    }
   ],
   "source": [
    "import os\n",
    "import sys\n",
    "sys.path.append(os.path.abspath('/Users/idrees/Code/govxs/')) # Assuming the DummyDataGenerator is defined in a module\n",
    "\n",
    "import numpy as np\n",
    "import pandas as pd\n",
    "from  round3_op_implementation import ProjectAllocator\n",
    "from model.DummyDataGenerator import DummyDataGenerator \n",
    "from model.VotingRules import VotingRules\n",
    "\n",
    "# Constants for allocation\n",
    "QUORUM = 17\n",
    "MIN_AMOUNT = 1500\n",
    "TOTAL_AMOUNT = 30000000\n",
    "\n",
    "# Generate dummy data\n",
    "\n",
    "generator = DummyDataGenerator(\n",
    "    num_rows=100,  # Number of rows (voters) to generate\n",
    "    max_project_in_ballot=5,  # Maximum projects a voter can vote for\n",
    "    max_votes=3,  # Maximum votes a voter can cast\n",
    "    start_date=\"2023-01-01\",  # Start date for random timestamps\n",
    "    end_date=\"2023-12-31\"  # End date for random timestamps\n",
    ")\n",
    "\n",
    "# Generate the DataFrame\n",
    "df = generator.generate_dummy_data()\n",
    "\n",
    "# Expand the 'Votes' column and format the DataFrame for ProjectAllocator\n",
    "df_votes_expanded = df.explode('Votes').reset_index(drop=True)\n",
    "df_votes_expanded = pd.concat(\n",
    "    [df_votes_expanded.drop(['Votes'], axis=1), df_votes_expanded['Votes'].apply(pd.Series)],\n",
    "    axis=1\n",
    ")\n",
    "df_votes_expanded = df_votes_expanded.rename(columns={\n",
    "    \"projectId\": \"project_id\",\n",
    "    \"amount\": \"amount\",\n",
    "    \"Address\": \"voter_address\"\n",
    "})\n",
    "df_votes_expanded[\"amount\"] = df_votes_expanded[\"amount\"].astype(float)  # Ensure amount is a float\n",
    "\n",
    "# Instantiate the allocator and calculate initial and scaled allocations\n",
    "allocator = ProjectAllocator(TOTAL_AMOUNT, MIN_AMOUNT, QUORUM)\n",
    "initial_allocation = allocator.calculate_initial_allocation(df_votes_expanded)\n",
    "print('Initial_Allocation')\n",
    "print(initial_allocation)\n",
    "\n",
    "scaled_allocation = allocator.scale_allocations(initial_allocation, \"median_amount\")\n",
    "print('Scaled_Allocation')\n",
    "print(scaled_allocation)\n",
    "\n",
    "# Now let's use your VotingRules class to calculate the allocation using the median rule\n",
    "voting_matrix = df_votes_expanded.pivot_table(\n",
    "    index='voter_address', columns='project_id', values='amount', fill_value=0\n",
    ").values\n",
    "\n",
    "\n",
    "num_voters = voting_matrix.shape[0]\n",
    "total_op_tokens = TOTAL_AMOUNT  # Equivalent to total funds in this context\n",
    "\n",
    "\n",
    "voting_rules = VotingRules()\n",
    "median_allocation = voting_rules.r3_median(voting_matrix, total_op_tokens, num_voters)\n",
    "\n",
    "comparison_df = pd.DataFrame({\n",
    "    'Allocation (ProjectAllocator)': scaled_allocation['scaled_amount'].values,\n",
    "    'Allocation (Our Implemenation)': median_allocation\n",
    "})\n",
    "print('Comparison_Allocation')\n",
    "comparison_df.head()"
   ]
  },
  {
   "cell_type": "markdown",
   "metadata": {},
   "source": [
    "# Round 2 Verification"
   ]
  },
  {
   "cell_type": "code",
   "execution_count": 4,
   "metadata": {},
   "outputs": [
    {
     "name": "stdout",
     "output_type": "stream",
     "text": [
      "[2000000. 4600000. 1600000. 1800000.]\n"
     ]
    }
   ],
   "source": [
    "import numpy as np\n",
    "\n",
    "# Define the voting matrix\n",
    "voting_matrix = np.array([[50, 10, 40, 0],\n",
    "                          [10, 50, 20, 20],\n",
    "                          [0, 50, 0, 50],\n",
    "                          [0, 100, 0, 0],\n",
    "                          [40, 20, 20, 20]])\n",
    "total_op_tokens=10e6\n",
    "num_voters=5\n",
    "\n",
    "voting_rules = VotingRules()\n",
    "mean_allocation = voting_rules.r2_mean(voting_matrix, total_op_tokens, num_voters)\n",
    "print(mean_allocation)"
   ]
  }
 ],
 "metadata": {
  "kernelspec": {
   "display_name": "govxs_venv",
   "language": "python",
   "name": "python3"
  },
  "language_info": {
   "codemirror_mode": {
    "name": "ipython",
    "version": 3
   },
   "file_extension": ".py",
   "mimetype": "text/x-python",
   "name": "python",
   "nbconvert_exporter": "python",
   "pygments_lexer": "ipython3",
   "version": "3.11.9"
  }
 },
 "nbformat": 4,
 "nbformat_minor": 2
}
